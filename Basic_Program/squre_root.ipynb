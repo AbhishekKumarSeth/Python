{
 "cells": [
  {
   "cell_type": "code",
   "execution_count": 1,
   "metadata": {},
   "outputs": [
    {
     "name": "stdout",
     "output_type": "stream",
     "text": [
      "The square root of 9.000 is 3.000\n"
     ]
    }
   ],
   "source": [
    "# calculate the square root\n",
    "num = 9\n",
    "\n",
    "# uncomment to take the input from the user\n",
    "#num = float(input('Enter a number: '))\n",
    "num_sqrt = num ** 0.5\n",
    "print('The square root of %0.3f is %0.3f'%(num ,num_sqrt))"
   ]
  },
  {
   "cell_type": "code",
   "execution_count": 2,
   "metadata": {},
   "outputs": [
    {
     "name": "stdout",
     "output_type": "stream",
     "text": [
      "The square root of (9+2j) is 3.018+0.331j\n"
     ]
    }
   ],
   "source": [
    "# Find square root of real or complex numbers\n",
    "# Import the complex math module\n",
    "import cmath\n",
    "# change this value for a different result\n",
    "num = 9+2j\n",
    "\n",
    "# uncommment to take input from the user\n",
    "#num = eval(input('Enter a number: '))\n",
    "num_sqrt = cmath.sqrt(num)\n",
    "print('The square root of {0} is {1:0.3f}+{2:0.3f}j'.format(num ,num_sqrt.real,num_sqrt.imag))"
   ]
  },
  {
   "cell_type": "code",
   "execution_count": 3,
   "metadata": {},
   "outputs": [
    {
     "name": "stdout",
     "output_type": "stream",
     "text": [
      "0.0\n",
      "2.0\n",
      "1.8708286933869707\n"
     ]
    }
   ],
   "source": [
    "# import the math module\n",
    "import math\n",
    "# print the square root of  0\n",
    "print(math.sqrt(0))\n",
    "# print the square root of 4\n",
    "print(math.sqrt(4))\n",
    "# print the square root of 3.5\n",
    "print(math.sqrt(3.5))"
   ]
  },
  {
   "cell_type": "code",
   "execution_count": null,
   "metadata": {},
   "outputs": [],
   "source": []
  }
 ],
 "metadata": {
  "interpreter": {
   "hash": "e2adef7d64a4b0fa1f118b26822e83464939a668ea6a8016a33be38a907d8688"
  },
  "kernelspec": {
   "display_name": "Python 3.9.5 64-bit ('venv_39_py': venv)",
   "language": "python",
   "name": "python3"
  },
  "language_info": {
   "codemirror_mode": {
    "name": "ipython",
    "version": 3
   },
   "file_extension": ".py",
   "mimetype": "text/x-python",
   "name": "python",
   "nbconvert_exporter": "python",
   "pygments_lexer": "ipython3",
   "version": "3.9.5"
  },
  "orig_nbformat": 4
 },
 "nbformat": 4,
 "nbformat_minor": 2
}
